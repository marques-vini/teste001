{
  "nbformat": 4,
  "nbformat_minor": 0,
  "metadata": {
    "colab": {
      "provenance": [],
      "authorship_tag": "ABX9TyMBbExuhG3FS+WDLIbXsi86",
      "include_colab_link": true
    },
    "kernelspec": {
      "name": "python3",
      "display_name": "Python 3"
    },
    "language_info": {
      "name": "python"
    }
  },
  "cells": [
    {
      "cell_type": "markdown",
      "metadata": {
        "id": "view-in-github",
        "colab_type": "text"
      },
      "source": [
        "<a href=\"https://colab.research.google.com/github/marques-vini/teste001/blob/main/polegadas.ipynb\" target=\"_parent\"><img src=\"https://colab.research.google.com/assets/colab-badge.svg\" alt=\"Open In Colab\"/></a>"
      ]
    },
    {
      "cell_type": "code",
      "execution_count": 2,
      "metadata": {
        "colab": {
          "base_uri": "https://localhost:8080/"
        },
        "id": "dgLC9V8YZKZc",
        "outputId": "cdf7fc6f-d17b-44e9-91a5-74632cd89c1f"
      },
      "outputs": [
        {
          "output_type": "stream",
          "name": "stdout",
          "text": [
            "digite a medida em polegadas1\n",
            "1.0 polegada é igual a 25.40 milimetros.\n"
          ]
        }
      ],
      "source": [
        "polegadas = float(input(\"digite a medida em polegadas\"))\n",
        "milimetros = polegadas*25.4\n",
        "print(f\"{polegadas} polegada é igual a {milimetros:.2f} milimetros.\")"
      ]
    },
    {
      "cell_type": "code",
      "source": [
        "import math\n",
        "\n",
        "def calcular_volume_esfera(raio):\n",
        "    \"\"\"Calcula o volume de uma esfera dado o raio.\"\"\"\n",
        "    volume = (4 / 3) * math.pi * (raio ** 3)\n",
        "    return volume\n",
        "\n",
        "def main():\n",
        "    # Solicita ao usuário o valor do raio\n",
        "    raio = float(input(\"Digite o raio da esfera: \"))\n",
        "\n",
        "    # Calcula o volume da esfera\n",
        "    volume = calcular_volume_esfera(raio)\n",
        "\n",
        "    # Exibe o resultado\n",
        "    print(f\"O volume da esfera é: {volume:.2f}\")\n",
        "\n",
        "if __name__ == \"__main__\":\n",
        "    main()"
      ],
      "metadata": {
        "colab": {
          "base_uri": "https://localhost:8080/"
        },
        "id": "104J0M9Cc1B9",
        "outputId": "83816085-55ec-4d3d-f92f-98290dc327bf"
      },
      "execution_count": 3,
      "outputs": [
        {
          "output_type": "stream",
          "name": "stdout",
          "text": [
            "Digite o raio da esfera: 5\n",
            "O volume da esfera é: 523.60\n"
          ]
        }
      ]
    },
    {
      "cell_type": "code",
      "source": [
        "import math\n",
        "\n",
        "def converter_graus_para_radianos(graus):\n",
        "    \"\"\"Converte um ângulo de graus para radianos.\"\"\"\n",
        "    radianos = graus * (math.pi / 180)\n",
        "    return radianos\n",
        "\n",
        "def main():\n",
        "    # Solicita ao usuário o valor do ângulo em graus\n",
        "    graus = float(input(\"Digite o ângulo em graus: \"))\n",
        "\n",
        "    # Converte o ângulo para radianos\n",
        "    radianos = converter_graus_para_radianos(graus)\n",
        "\n",
        "    # Exibe o resultado\n",
        "    print(f\"O ângulo em radianos é: {radianos:.4f}\")\n",
        "\n",
        "if __name__ == \"__main__\":\n",
        "    main()\n",
        ""
      ],
      "metadata": {
        "colab": {
          "base_uri": "https://localhost:8080/"
        },
        "id": "zD5sGrxYeTyH",
        "outputId": "b69bb824-6370-44de-9344-67737845fbbb"
      },
      "execution_count": 4,
      "outputs": [
        {
          "output_type": "stream",
          "name": "stdout",
          "text": [
            "Digite o ângulo em graus: 5\n",
            "O ângulo em radianos é: 0.0873\n"
          ]
        }
      ]
    },
    {
      "cell_type": "code",
      "source": [
        "radianos = float(input(\"digite o angulo em radianos\"))\n",
        "pi = 3.1415\n",
        "graus = radianos*(180/pi)\n",
        "print(f\"{radianos} radiano é igual a {graus:.2f} graus.\")"
      ],
      "metadata": {
        "colab": {
          "base_uri": "https://localhost:8080/"
        },
        "id": "vEVJV8mGe4nz",
        "outputId": "9ba7b34a-9d76-4f31-a8a7-0e1c81f79518"
      },
      "execution_count": 15,
      "outputs": [
        {
          "output_type": "stream",
          "name": "stdout",
          "text": [
            "digite o angulo em radianos0.0873\n",
            "0.0873 radiano é igual a 5.00 graus.\n"
          ]
        }
      ]
    },
    {
      "cell_type": "code",
      "source": [
        "radianos = float(input(\"digite o angulo em radianos\"))\n",
        "pi = 3.1415\n",
        "grados = radianos*(200/pi)\n",
        "print(f\"{radianos} radianos é igual a {grados:.2f} grados\")"
      ],
      "metadata": {
        "colab": {
          "base_uri": "https://localhost:8080/"
        },
        "id": "J8nNOLlQi1VH",
        "outputId": "875c7fd1-cfb2-4614-db8e-692aa0ca2d8d"
      },
      "execution_count": 16,
      "outputs": [
        {
          "output_type": "stream",
          "name": "stdout",
          "text": [
            "digite o angulo em radianos5\n",
            "5.0 radianos é igual a 318.32 grados\n"
          ]
        }
      ]
    }
  ]
}