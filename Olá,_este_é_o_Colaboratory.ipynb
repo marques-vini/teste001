{
  "cells": [
    {
      "cell_type": "markdown",
      "metadata": {
        "id": "view-in-github",
        "colab_type": "text"
      },
      "source": [
        "<a href=\"https://colab.research.google.com/github/marques-vini/teste001/blob/main/Ol%C3%A1%2C_este_%C3%A9_o_Colaboratory.ipynb\" target=\"_parent\"><img src=\"https://colab.research.google.com/assets/colab-badge.svg\" alt=\"Open In Colab\"/></a>"
      ]
    },
    {
      "cell_type": "code",
      "source": [
        "#exercicio 1\n",
        "#solicitar um valor inteiro\n",
        "x = int(input(\"insira um valor inteiro:\"))\n",
        "if x % 3 == 0:\n",
        "    print (f\"o numero {x} é mutiplo de 3.\")\n",
        "else:\n",
        "    print (f\"o numero {x} não é mutiplo de 3\")"
      ],
      "metadata": {
        "colab": {
          "base_uri": "https://localhost:8080/"
        },
        "id": "s0JyHMk8dOFC",
        "outputId": "628c8795-3f73-4869-ca86-4dadf366d24f"
      },
      "execution_count": 5,
      "outputs": [
        {
          "output_type": "stream",
          "name": "stdout",
          "text": [
            "insira um valor inteiro:7\n",
            "o numero 7 não é mutiplo de 3\n"
          ]
        }
      ]
    },
    {
      "cell_type": "code",
      "source": [
        "#exercicio 2\n",
        "#comparação de nota\n",
        "a = float(input(\"digite a nota a:\"))\n",
        "b = float(input(\"digite a nota b:\"))\n",
        "m = (a+b)/2\n",
        "if m >= 5:\n",
        "    print(\"aprovado\")\n",
        "else:\n",
        "    print(\"reprovado\")"
      ],
      "metadata": {
        "colab": {
          "base_uri": "https://localhost:8080/"
        },
        "id": "swleOWxtiLyr",
        "outputId": "eff877a8-51d4-4f8a-b978-4dbf784bd408"
      },
      "execution_count": 7,
      "outputs": [
        {
          "output_type": "stream",
          "name": "stdout",
          "text": [
            "digite a nota a:6\n",
            "digite a nota b:6\n",
            "aprovado\n"
          ]
        }
      ]
    },
    {
      "cell_type": "code",
      "source": [
        "#exercicio 3\n",
        "#comparação de valores\n",
        "a = float(input(\"digite o valor a:\"))\n",
        "b = float(input(\"digite o valor b:\"))\n",
        "c = float(input(\"digite o valor c:\"))\n",
        "\n",
        "if a <= b and a <= c:\n",
        "    print(f\"{a} menor valor.\")\n",
        "elif b <= a and b <= c:\n",
        "    print(f\"{b} menor valor.\")\n",
        "elif c <= a and c <= b:\n",
        "    print(f\"{c} menor valor.\")\n",
        "\n"
      ],
      "metadata": {
        "colab": {
          "base_uri": "https://localhost:8080/"
        },
        "id": "KH1CyZQXkCm2",
        "outputId": "b4840c76-78e1-46be-c58b-e17d92a24483"
      },
      "execution_count": 13,
      "outputs": [
        {
          "output_type": "stream",
          "name": "stdout",
          "text": [
            "digite o valor a:5\n",
            "digite o valor b:4\n",
            "digite o valor c:3\n",
            "3.0 menor valor.\n"
          ]
        }
      ]
    },
    {
      "cell_type": "markdown",
      "source": [],
      "metadata": {
        "id": "lIlc7_nElvP4"
      }
    }
  ],
  "metadata": {
    "colab": {
      "name": "Olá, este é o Colaboratory",
      "toc_visible": true,
      "provenance": [],
      "include_colab_link": true
    },
    "kernelspec": {
      "display_name": "Python 3",
      "name": "python3"
    }
  },
  "nbformat": 4,
  "nbformat_minor": 0
}